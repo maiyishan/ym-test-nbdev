{
 "cells": [
  {
   "cell_type": "markdown",
   "id": "fa7ad4b3",
   "metadata": {},
   "source": [
    "idk man this is a test?"
   ]
  }
 ],
 "metadata": {
  "kernelspec": {
   "display_name": "Python 3 (ipykernel)",
   "language": "python",
   "name": "python3"
  }
 },
 "nbformat": 4,
 "nbformat_minor": 5
}
