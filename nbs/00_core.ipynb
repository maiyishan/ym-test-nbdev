{
 "cells": [
  {
   "cell_type": "markdown",
   "metadata": {},
   "source": [
    "# This is the nbdev test project.\n",
    "\n",
    "> Usually, up here you would put down the API + module name/description. But for now I'm just going to take notes.\n",
    "\n",
    "The heading becomes the title of the documentation page; the quote becomes the description of the page.\n",
    "\n",
    "#| (hash-pipe) are special comments: for use by quarto. \n",
    "\n",
    "#| default_exp : sets the name of the .py file. Each notebook in the nbs folder creates one .py file. e.g. default_exp core creates a file called core.py\n",
    "\n",
    "#| hide : hides that cell from the documentation."
   ]
  },
  {
   "cell_type": "code",
   "execution_count": null,
   "metadata": {},
   "outputs": [],
   "source": [
    "#| default_exp core"
   ]
  },
  {
   "cell_type": "code",
   "execution_count": 2,
   "metadata": {},
   "outputs": [],
   "source": [
    "#| hide\n",
    "from nbdev.showdoc import *\n",
    "from fastcore.test import *\n",
    "from fastcore.utils import *"
   ]
  },
  {
   "cell_type": "code",
   "execution_count": null,
   "metadata": {},
   "outputs": [],
   "source": [
    "#| export\n",
    "\n",
    "suits = (\"Diamond\", \"Hearts\", \"Clubs\", \"Spades\")\n",
    "ranks = [None, \"A\"] + [str(x) for x in range(2,11)] + [\"J\", \"Q\", \"K\"]"
   ]
  },
  {
   "cell_type": "markdown",
   "metadata": {},
   "source": [
    "These are the card suits."
   ]
  },
  {
   "cell_type": "code",
   "execution_count": null,
   "metadata": {},
   "outputs": [
    {
     "data": {
      "text/plain": [
       "('D', 'H', 'C', 'S')"
      ]
     },
     "execution_count": null,
     "metadata": {},
     "output_type": "execute_result"
    }
   ],
   "source": [
    "suits"
   ]
  },
  {
   "cell_type": "code",
   "execution_count": null,
   "metadata": {},
   "outputs": [
    {
     "data": {
      "text/plain": [
       "[None, 'A', '2', '3', '4', '5', '6', '7', '8', '9', '10', 'J', 'Q', 'K']"
      ]
     },
     "execution_count": null,
     "metadata": {},
     "output_type": "execute_result"
    }
   ],
   "source": [
    "ranks"
   ]
  },
  {
   "cell_type": "code",
   "execution_count": null,
   "metadata": {},
   "outputs": [],
   "source": [
    "#| export\n",
    "class Card:\n",
    "    \n",
    "    ## This creates a line in documentation; you can preview by using the show_doc command. Splitting up the __init__ into rows creates a table: see below\n",
    "    \"A playing card.\"\n",
    "    \n",
    "    ##initialization of the object\n",
    "    def __init__(self, \n",
    "                 suit:int, #Indexes from `suit` \n",
    "                 rank:int): #Indexes from `ranks`\n",
    "        self.suit = suits[suit]\n",
    "        self.rank = ranks[rank]\n",
    "        \n",
    "    ## dunder str: how to string-ify your object\n",
    "    def __str__(self):return self.rank + \" of \" + self.suit\n",
    "    \n",
    "    ## causes Jupyter to output the str. version when the object itself is called; reproduces into the notebook\n",
    "    __repr__ = __str__"
   ]
  },
  {
   "cell_type": "code",
   "execution_count": null,
   "metadata": {},
   "outputs": [],
   "source": [
    "c = Card(suit=1, rank=3)"
   ]
  },
  {
   "cell_type": "code",
   "execution_count": null,
   "metadata": {},
   "outputs": [
    {
     "data": {
      "text/plain": [
       "3 of H"
      ]
     },
     "execution_count": null,
     "metadata": {},
     "output_type": "execute_result"
    }
   ],
   "source": [
    "c"
   ]
  },
  {
   "cell_type": "code",
   "execution_count": null,
   "metadata": {},
   "outputs": [
    {
     "data": {
      "text/markdown": [
       "---\n",
       "\n",
       "[source](https://github.com/maiyishan/ym-test-nbdev/blob/main/ym_test_nbdev/core.py#L11){target=\"_blank\" style=\"float:right; font-size:smaller\"}\n",
       "\n",
       "### Card\n",
       "\n",
       ">      Card (suit:int, rank:int)\n",
       "\n",
       "A playing card.\n",
       "\n",
       "|    | **Type** | **Details** |\n",
       "| -- | -------- | ----------- |\n",
       "| suit | int | Indexes from `suit` |\n",
       "| rank | int | Indexes from `ranks` |"
      ],
      "text/plain": [
       "---\n",
       "\n",
       "[source](https://github.com/maiyishan/ym-test-nbdev/blob/main/ym_test_nbdev/core.py#L11){target=\"_blank\" style=\"float:right; font-size:smaller\"}\n",
       "\n",
       "### Card\n",
       "\n",
       ">      Card (suit:int, rank:int)\n",
       "\n",
       "A playing card.\n",
       "\n",
       "|    | **Type** | **Details** |\n",
       "| -- | -------- | ----------- |\n",
       "| suit | int | Indexes from `suit` |\n",
       "| rank | int | Indexes from `ranks` |"
      ]
     },
     "execution_count": null,
     "metadata": {},
     "output_type": "execute_result"
    }
   ],
   "source": [
    "show_doc(Card)"
   ]
  },
  {
   "cell_type": "code",
   "execution_count": null,
   "metadata": {},
   "outputs": [],
   "source": [
    "@patch\n",
    "# lets you patch in properties into a class\n",
    "def __eq__(self:Card, a:Card): return (self.suit, self.rank) == (a.suit, a.rank)\n",
    "def __lt__(self:Card, a:Card): return (self.suit, self.rank) < (a.suit, a.rank)\n",
    "def __gt__(self:Card, a:Card): return (self.suit, self.rank) > (a.suit, a.rank)"
   ]
  },
  {
   "cell_type": "code",
   "execution_count": null,
   "metadata": {},
   "outputs": [],
   "source": []
  },
  {
   "cell_type": "code",
   "execution_count": null,
   "metadata": {},
   "outputs": [],
   "source": [
    "#| hide\n",
    "import nbdev; nbdev.nbdev_export()"
   ]
  },
  {
   "cell_type": "code",
   "execution_count": null,
   "metadata": {},
   "outputs": [],
   "source": []
  }
 ],
 "metadata": {
  "kernelspec": {
   "display_name": "Python 3 (ipykernel)",
   "language": "python",
   "name": "python3"
  },
  "language_info": {
   "codemirror_mode": {
    "name": "ipython",
    "version": 3
   },
   "file_extension": ".py",
   "mimetype": "text/x-python",
   "name": "python",
   "nbconvert_exporter": "python",
   "pygments_lexer": "ipython3",
   "version": "3.9.7"
  }
 },
 "nbformat": 4,
 "nbformat_minor": 4
}
