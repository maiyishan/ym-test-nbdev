{
 "cells": [
  {
   "cell_type": "code",
   "execution_count": null,
   "metadata": {},
   "outputs": [],
   "source": [
    "#|default_exp deck"
   ]
  },
  {
   "cell_type": "code",
   "execution_count": null,
   "metadata": {},
   "outputs": [],
   "source": []
  },
  {
   "cell_type": "code",
   "execution_count": null,
   "metadata": {},
   "outputs": [],
   "source": [
    "#|export\n",
    "from ym_test_nbdev.core import *"
   ]
  },
  {
   "cell_type": "code",
   "execution_count": null,
   "metadata": {},
   "outputs": [],
   "source": [
    "#|hide\n",
    "from nbdev.showdoc import *"
   ]
  },
  {
   "cell_type": "code",
   "execution_count": null,
   "metadata": {},
   "outputs": [],
   "source": [
    "#|export\n",
    "class Deck:\n",
    "    def __init__(self): self.cards = [Card(s, r) for s in range(4) for r in range(1,14)]\n",
    "    def __str__(self): return '; '.join(map(str, self.cards))\n",
    "    __repr__ = __str__"
   ]
  },
  {
   "cell_type": "code",
   "execution_count": null,
   "metadata": {},
   "outputs": [
    {
     "data": {
      "text/plain": [
       "A of Diamond; 2 of Diamond; 3 of Diamond; 4 of Diamond; 5 of Diamond; 6 of Diamond; 7 of Diamond; 8 of Diamond; 9 of Diamond; 10 of Diamond; J of Diamond; Q of Diamond; K of Diamond; A of Hearts; 2 of Hearts; 3 of Hearts; 4 of Hearts; 5 of Hearts; 6 of Hearts; 7 of Hearts; 8 of Hearts; 9 of Hearts; 10 of Hearts; J of Hearts; Q of Hearts; K of Hearts; A of Clubs; 2 of Clubs; 3 of Clubs; 4 of Clubs; 5 of Clubs; 6 of Clubs; 7 of Clubs; 8 of Clubs; 9 of Clubs; 10 of Clubs; J of Clubs; Q of Clubs; K of Clubs; A of Spades; 2 of Spades; 3 of Spades; 4 of Spades; 5 of Spades; 6 of Spades; 7 of Spades; 8 of Spades; 9 of Spades; 10 of Spades; J of Spades; Q of Spades; K of Spades"
      ]
     },
     "execution_count": null,
     "metadata": {},
     "output_type": "execute_result"
    }
   ],
   "source": [
    "Deck()"
   ]
  },
  {
   "cell_type": "code",
   "execution_count": null,
   "metadata": {},
   "outputs": [],
   "source": [
    "#| hide\n",
    "import nbdev; nbdev.nbdev_export()"
   ]
  }
 ],
 "metadata": {
  "kernelspec": {
   "display_name": "Python 3 (ipykernel)",
   "language": "python",
   "name": "python3"
  }
 },
 "nbformat": 4,
 "nbformat_minor": 4
}
